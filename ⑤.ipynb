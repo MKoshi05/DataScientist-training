{
  "nbformat": 4,
  "nbformat_minor": 0,
  "metadata": {
    "colab": {
      "provenance": [],
      "collapsed_sections": [],
      "authorship_tag": "ABX9TyMdhyp2srDLUBM2ofDofkFm",
      "include_colab_link": true
    },
    "kernelspec": {
      "name": "python3",
      "display_name": "Python 3"
    },
    "language_info": {
      "name": "python"
    }
  },
  "cells": [
    {
      "cell_type": "markdown",
      "metadata": {
        "id": "view-in-github",
        "colab_type": "text"
      },
      "source": [
        "<a href=\"https://colab.research.google.com/github/MKoshi05/DataScientist-training/blob/main/%E2%91%A4.ipynb\" target=\"_parent\"><img src=\"https://colab.research.google.com/assets/colab-badge.svg\" alt=\"Open In Colab\"/></a>"
      ]
    },
    {
      "cell_type": "code",
      "execution_count": null,
      "metadata": {
        "id": "jAtW3aSYD4z0"
      },
      "outputs": [],
      "source": [
        "import numpy as np\n",
        "import numpy.random as random\n",
        "import scipy as sp\n",
        "\n",
        "#可視化ライブラリ\n",
        "import matplotlib.pyplot as plt\n",
        "import matplotlib as mpl\n"
      ]
    },
    {
      "cell_type": "markdown",
      "source": [
        "## インデックス参照"
      ],
      "metadata": {
        "id": "Dt8JozbGGM3t"
      }
    },
    {
      "cell_type": "code",
      "source": [
        "sample_array = np.arange(10)\n",
        "print(\"sample_array:\",sample_array)\n",
        "\n",
        "#前から数字を5つ取得して、sample_array_sliceに入れる\n",
        "sample_array_slice = sample_array[0:5]\n",
        "print(\"sample_array_slice:\",sample_array_slice)\n",
        "\n"
      ],
      "metadata": {
        "colab": {
          "base_uri": "https://localhost:8080/"
        },
        "id": "_gU_xEQ9FEO5",
        "outputId": "ddd664fd-3fa3-4c70-e273-e8d3971237d2"
      },
      "execution_count": null,
      "outputs": [
        {
          "output_type": "stream",
          "name": "stdout",
          "text": [
            "sample_array: [0 1 2 3 4 5 6 7 8 9]\n",
            "sample_array_slice: [0 1 2 3 4]\n"
          ]
        }
      ]
    },
    {
      "cell_type": "code",
      "source": [
        "#sample_array_sliceの3文字目までを10で置換\n",
        "sample_array_slice[0:3] = 10\n",
        "print(sample_array_slice)\n",
        "\n",
        "#スライスの変更は、元のリストにも反映される\n",
        "print(sample_array)\n",
        "\n",
        "\"\"\"\n",
        "sample_array_sliceは、元データであるsample_arrayを「参照」しているだけ。\n",
        "元データをコピーして格納しているわけではないので、sample_array_sliceを変更すること、元データを変更することに等しい\n",
        "\"\"\""
      ],
      "metadata": {
        "colab": {
          "base_uri": "https://localhost:8080/"
        },
        "id": "wLP4UQcvGL85",
        "outputId": "3a8b8f6a-2008-4e85-920c-d4751e7c1b6d"
      },
      "execution_count": null,
      "outputs": [
        {
          "output_type": "stream",
          "name": "stdout",
          "text": [
            "[10 10 10  3  4]\n",
            "[10 10 10  3  4  5  6  7  8  9]\n"
          ]
        }
      ]
    },
    {
      "cell_type": "markdown",
      "source": [
        "## データのコピー"
      ],
      "metadata": {
        "id": "LfwB2qpgGtu_"
      }
    },
    {
      "cell_type": "code",
      "source": [
        "#元データを「参照」ではなく、コピーしたいときは、copyを用いる\n",
        "sample_array_copy = np.copy(sample_array)\n",
        "print(sample_array_copy)\n",
        "\n",
        "sample_array_copy[0:3] = 20\n",
        "print(sample_array_copy)\n",
        "\n",
        "print(\"元のデータは変更されていない\")\n",
        "print(sample_array)"
      ],
      "metadata": {
        "colab": {
          "base_uri": "https://localhost:8080/"
        },
        "id": "EER9T6OwGxw4",
        "outputId": "52002a63-9f8b-4b7a-bc65-92d8c0740812"
      },
      "execution_count": null,
      "outputs": [
        {
          "output_type": "stream",
          "name": "stdout",
          "text": [
            "[10 10 10  3  4  5  6  7  8  9]\n",
            "[20 20 20  3  4  5  6  7  8  9]\n",
            "元のデータは変更されていない\n",
            "[10 10 10  3  4  5  6  7  8  9]\n"
          ]
        }
      ]
    },
    {
      "cell_type": "markdown",
      "source": [
        "## ブールインデックス参照"
      ],
      "metadata": {
        "id": "zDd8aSOkH5ZR"
      }
    },
    {
      "cell_type": "code",
      "source": [
        "#データ準備\n",
        "sample_names = np.array([\"a\",\"b\",\"c\",\"d\",\"a\"])\n",
        "random.seed(0)\n",
        "data = random.randn(5,5)\n",
        "\n",
        "print(sample_names)\n",
        "print(data)\n",
        "\n",
        "#ブールインデックス参照を使って、要素を取り出す\n",
        "sample_names ==\"a\"\n",
        "\n",
        "#この結果を条件として指定し、dataの要素を取り出す\n",
        "#0番目と4番目がTrueなので、0行目と4行目の要素が取り出される\n",
        "data[sample_names == \"a\"]"
      ],
      "metadata": {
        "colab": {
          "base_uri": "https://localhost:8080/"
        },
        "id": "QfMjTG3eIu0g",
        "outputId": "9b7df9fd-181e-408d-f650-f1489cf7cf6e"
      },
      "execution_count": null,
      "outputs": [
        {
          "output_type": "stream",
          "name": "stdout",
          "text": [
            "['a' 'b' 'c' 'd' 'a']\n",
            "[[ 1.76405235  0.40015721  0.97873798  2.2408932   1.86755799]\n",
            " [-0.97727788  0.95008842 -0.15135721 -0.10321885  0.4105985 ]\n",
            " [ 0.14404357  1.45427351  0.76103773  0.12167502  0.44386323]\n",
            " [ 0.33367433  1.49407907 -0.20515826  0.3130677  -0.85409574]\n",
            " [-2.55298982  0.6536186   0.8644362  -0.74216502  2.26975462]]\n"
          ]
        },
        {
          "output_type": "execute_result",
          "data": {
            "text/plain": [
              "array([[ 1.76405235,  0.40015721,  0.97873798,  2.2408932 ,  1.86755799],\n",
              "       [-2.55298982,  0.6536186 ,  0.8644362 , -0.74216502,  2.26975462]])"
            ]
          },
          "metadata": {},
          "execution_count": 5
        }
      ]
    },
    {
      "cell_type": "markdown",
      "source": [
        "## 条件制御"
      ],
      "metadata": {
        "id": "TSpVUOtU61pk"
      }
    },
    {
      "cell_type": "code",
      "source": [
        "\"\"\"\n",
        "numpy.where(条件の配列,Xのデータ,Yのデータ)\n",
        "XデータとYデータの２種類があるとき、条件を満たすかによってXもしくはYの要素を取り出すというように、取得するデータを切り分ける\n",
        "\"\"\"\n",
        "#条件制御のためのブールデータを作成\n",
        "cond_data = np.array([True,True,False,False,True])\n",
        "\n",
        "#Xデータの作成\n",
        "x_array = np.array([1,2,3,4,5])\n",
        "\n",
        "#Yデータの作成\n",
        "y_array = np.array([100,200,300,400,500])\n",
        "\n",
        "#条件制御実施\n",
        "print(np.where(cond_data,x_array,y_array))\n",
        "print(\"Trueの部分はXデータを取り出し、Falseの部分はYデータを取り出せた\")"
      ],
      "metadata": {
        "colab": {
          "base_uri": "https://localhost:8080/"
        },
        "id": "S96LDPIi7Rg8",
        "outputId": "0edf5d81-2bca-4a91-ae2b-9d31390db74f"
      },
      "execution_count": null,
      "outputs": [
        {
          "output_type": "stream",
          "name": "stdout",
          "text": [
            "[  1   2 300 400   5]\n",
            "Trueの部分はXデータを取り出し、Falseの部分はYデータを取り出せた\n"
          ]
        }
      ]
    },
    {
      "cell_type": "markdown",
      "source": [
        "## Practice"
      ],
      "metadata": {
        "id": "gWfoyaQM9bur"
      }
    },
    {
      "cell_type": "code",
      "source": [
        "#練習問題5-1\n",
        "sample_names = np.array([\"a\",\"b\",\"c\",\"d\",\"a\"])\n",
        "random.seed(0)\n",
        "data = random.rand(5,5)\n",
        "\n",
        "print(data[sample_names == \"b\"])"
      ],
      "metadata": {
        "colab": {
          "base_uri": "https://localhost:8080/"
        },
        "id": "RHHBKeK89gBs",
        "outputId": "db0fc568-0dd9-4c14-f4f1-1767b8ac8780"
      },
      "execution_count": null,
      "outputs": [
        {
          "output_type": "stream",
          "name": "stdout",
          "text": [
            "[[0.64589411 0.43758721 0.891773   0.96366276 0.38344152]]\n"
          ]
        }
      ]
    },
    {
      "cell_type": "code",
      "source": [
        "#練習問題5-2\n",
        "#対象の文字列以外を抽出する場合、!= を使う\n",
        "print(data[sample_names != \"c\"])"
      ],
      "metadata": {
        "colab": {
          "base_uri": "https://localhost:8080/"
        },
        "id": "lBaLCFSa-VVz",
        "outputId": "0f8b8139-ed8c-4998-a5dc-57bc673daa89"
      },
      "execution_count": null,
      "outputs": [
        {
          "output_type": "stream",
          "name": "stdout",
          "text": [
            "[[0.5488135  0.71518937 0.60276338 0.54488318 0.4236548 ]\n",
            " [0.64589411 0.43758721 0.891773   0.96366276 0.38344152]\n",
            " [0.0871293  0.0202184  0.83261985 0.77815675 0.87001215]\n",
            " [0.97861834 0.79915856 0.46147936 0.78052918 0.11827443]]\n"
          ]
        }
      ]
    },
    {
      "cell_type": "code",
      "source": [
        "#練習問題5-3\n",
        "random.seed(0)\n",
        "x_array = random.rand(5)\n",
        "y_array = random.rand(5)\n",
        "print(x_array)\n",
        "print(y_array)\n",
        "#ブールインデックス参照と条件制御の組み合わせ\n",
        "sample_names = np.array([\"a\",\"a\",\"c\",\"d\",\"a\"])\n",
        "print(np.where(sample_names == \"a\",y_array,x_array))"
      ],
      "metadata": {
        "colab": {
          "base_uri": "https://localhost:8080/"
        },
        "id": "-viBiFaU-_ff",
        "outputId": "d89b9856-a7c4-4e31-b6aa-d508019ef1e9"
      },
      "execution_count": null,
      "outputs": [
        {
          "output_type": "stream",
          "name": "stdout",
          "text": [
            "[0.5488135  0.71518937 0.60276338 0.54488318 0.4236548 ]\n",
            "[0.64589411 0.43758721 0.891773   0.96366276 0.38344152]\n",
            "[0.64589411 0.43758721 0.60276338 0.54488318 0.38344152]\n"
          ]
        }
      ]
    },
    {
      "cell_type": "markdown",
      "source": [
        "## Numpyの演算処理"
      ],
      "metadata": {
        "id": "m1nqTz2I7aGl"
      }
    },
    {
      "cell_type": "code",
      "source": [
        "#重複の削除\n",
        "cond_data = np.array([True,True,False,True])\n",
        "print(cond_data)\n",
        "\n",
        "print(np.unique(cond_data))"
      ],
      "metadata": {
        "colab": {
          "base_uri": "https://localhost:8080/"
        },
        "id": "LFCKwwmz7gOB",
        "outputId": "a160b19e-bb4e-4ca6-d374-fc1e8bc74510"
      },
      "execution_count": null,
      "outputs": [
        {
          "output_type": "stream",
          "name": "stdout",
          "text": [
            "[ True  True False  True]\n",
            "[False  True]\n"
          ]
        }
      ]
    },
    {
      "cell_type": "code",
      "source": [
        "#ユニバーサル関数\n",
        "#すべての要素に対して、関数を適用するための関数\n",
        "\n",
        "sample_data = np.arange(10)\n",
        "\n",
        "print(sample_data)\n",
        "print(\"すべての要素の平方根\",np.sqrt(sample_data))\n",
        "print(\"すべての要素のネイピア指数関数\",np.exp(sample_data))"
      ],
      "metadata": {
        "colab": {
          "base_uri": "https://localhost:8080/"
        },
        "id": "XtFJLi5A7-fW",
        "outputId": "e5ba6474-f01e-46cc-c4bc-05463a7ee021"
      },
      "execution_count": null,
      "outputs": [
        {
          "output_type": "stream",
          "name": "stdout",
          "text": [
            "[0 1 2 3 4 5 6 7 8 9]\n",
            "すべての要素の平方根 [0.         1.         1.41421356 1.73205081 2.         2.23606798\n",
            " 2.44948974 2.64575131 2.82842712 3.        ]\n",
            "すべての要素のネイピア指数関数 [1.00000000e+00 2.71828183e+00 7.38905610e+00 2.00855369e+01\n",
            " 5.45981500e+01 1.48413159e+02 4.03428793e+02 1.09663316e+03\n",
            " 2.98095799e+03 8.10308393e+03]\n"
          ]
        }
      ]
    },
    {
      "cell_type": "code",
      "source": [
        "#最小値、最大値、平均、合計\n",
        "sample_multi_data01 = np.arange(99).reshape(11,9)\n",
        "\n",
        "print(sample_multi_data01)\n",
        "print(\"最大値\",np.max(sample_multi_data01))\n",
        "print(\"最小値\",sample_multi_data01.min())\n",
        "print(\"平均値\",np.mean(sample_multi_data01))\n",
        "print(\"合計\",sample_multi_data01.sum())"
      ],
      "metadata": {
        "colab": {
          "base_uri": "https://localhost:8080/"
        },
        "id": "6rdlzx0V81RF",
        "outputId": "7d39536d-4c31-4e00-a0cb-e9b02c5fc69c"
      },
      "execution_count": null,
      "outputs": [
        {
          "output_type": "stream",
          "name": "stdout",
          "text": [
            "[[ 0  1  2  3  4  5  6  7  8]\n",
            " [ 9 10 11 12 13 14 15 16 17]\n",
            " [18 19 20 21 22 23 24 25 26]\n",
            " [27 28 29 30 31 32 33 34 35]\n",
            " [36 37 38 39 40 41 42 43 44]\n",
            " [45 46 47 48 49 50 51 52 53]\n",
            " [54 55 56 57 58 59 60 61 62]\n",
            " [63 64 65 66 67 68 69 70 71]\n",
            " [72 73 74 75 76 77 78 79 80]\n",
            " [81 82 83 84 85 86 87 88 89]\n",
            " [90 91 92 93 94 95 96 97 98]]\n",
            "最大値 98\n",
            "最小値 0\n",
            "平均値 49.0\n",
            "合計 4851\n"
          ]
        }
      ]
    },
    {
      "cell_type": "code",
      "source": [
        "#真偽判定\n",
        "print(\"少なくとも１つ以上Trueがあるかどうか\",np.any(cond_data))\n",
        "print(\"すべてTrueかどうか\",cond_data.all())\n",
        "print()\n",
        "#条件を指定してからsumを指定すると、条件に合致する「要素の個数」を調べられる\n",
        "print(sample_multi_data01)\n",
        "print(\"サンプルデータのうち、平均値より大きい要素の個数\",(sample_multi_data01>np.mean(sample_multi_data01)).sum())"
      ],
      "metadata": {
        "colab": {
          "base_uri": "https://localhost:8080/"
        },
        "id": "Qtw1Nzup9ydo",
        "outputId": "01758504-6ec3-4310-d204-ddfd9c6df349"
      },
      "execution_count": null,
      "outputs": [
        {
          "output_type": "stream",
          "name": "stdout",
          "text": [
            "少なくとも１つ以上Trueがあるかどうか True\n",
            "すべてTrueかどうか False\n",
            "\n",
            "[[ 0  1  2  3  4  5  6  7  8]\n",
            " [ 9 10 11 12 13 14 15 16 17]\n",
            " [18 19 20 21 22 23 24 25 26]\n",
            " [27 28 29 30 31 32 33 34 35]\n",
            " [36 37 38 39 40 41 42 43 44]\n",
            " [45 46 47 48 49 50 51 52 53]\n",
            " [54 55 56 57 58 59 60 61 62]\n",
            " [63 64 65 66 67 68 69 70 71]\n",
            " [72 73 74 75 76 77 78 79 80]\n",
            " [81 82 83 84 85 86 87 88 89]\n",
            " [90 91 92 93 94 95 96 97 98]]\n",
            "サンプルデータのうち、平均値より大きい要素の個数 49\n"
          ]
        }
      ]
    },
    {
      "cell_type": "code",
      "source": [
        "#対角成分の計算\n",
        "sample_multi_data02 = np.arange(2,11).reshape(3,3)\n",
        "print(sample_multi_data02)\n",
        "\n",
        "#対角成分（diagonal component）の表示\n",
        "print(\"対角成分\",np.diag(sample_multi_data02))\n",
        "#対角成分の和(Trace)の表示\n",
        "print(\"対角成分の和\",np.trace(sample_multi_data02))"
      ],
      "metadata": {
        "colab": {
          "base_uri": "https://localhost:8080/"
        },
        "id": "j-UgiaMs_MJH",
        "outputId": "8d597b6e-5eb7-49c6-faaf-310e7949b9a3"
      },
      "execution_count": null,
      "outputs": [
        {
          "output_type": "stream",
          "name": "stdout",
          "text": [
            "[[ 2  3  4]\n",
            " [ 5  6  7]\n",
            " [ 8  9 10]]\n",
            "対角成分 [ 2  6 10]\n",
            "対角成分の和 18\n"
          ]
        }
      ]
    },
    {
      "cell_type": "markdown",
      "source": [
        "# Practice"
      ],
      "metadata": {
        "id": "SfN2c2CKATmE"
      }
    },
    {
      "cell_type": "code",
      "source": [
        "#練習問題5-4\n",
        "#基本データを表示してください\n",
        "sample_multi_prac = np.arange(16).reshape(4,4)\n",
        "print(sample_multi_prac)"
      ],
      "metadata": {
        "colab": {
          "base_uri": "https://localhost:8080/"
        },
        "id": "W3cNG1JHAbYG",
        "outputId": "cacc110e-0a34-40fe-fb49-ffae6c2451a2"
      },
      "execution_count": null,
      "outputs": [
        {
          "output_type": "stream",
          "name": "stdout",
          "text": [
            "[[ 0  1  2  3]\n",
            " [ 4  5  6  7]\n",
            " [ 8  9 10 11]\n",
            " [12 13 14 15]]\n"
          ]
        }
      ]
    },
    {
      "cell_type": "code",
      "source": [
        "#練習問題5-5\n",
        "#基本データの最大値、最小値、合計値、平均値を求めてください\n",
        "print(\"最大値\",np.max(sample_multi_prac))\n",
        "print(\"最小値\",sample_multi_prac.min())\n",
        "print(\"合計値\",np.sum(sample_multi_prac))\n",
        "print(\"平均値\",sample_multi_prac.mean())\n",
        "print(\"標準偏差\",np.std(sample_multi_prac))"
      ],
      "metadata": {
        "colab": {
          "base_uri": "https://localhost:8080/"
        },
        "id": "Tyv4AaO2AwS0",
        "outputId": "f7da5e39-f7df-4dc3-ad40-5b6ac53ce82b"
      },
      "execution_count": null,
      "outputs": [
        {
          "output_type": "stream",
          "name": "stdout",
          "text": [
            "最大値 15\n",
            "最小値 0\n",
            "合計値 120\n",
            "平均値 7.5\n",
            "標準偏差 4.6097722286464435\n"
          ]
        }
      ]
    },
    {
      "cell_type": "code",
      "source": [
        "#練習問題5-6\n",
        "#基本データについて、対角成分の表示、対角成分の和を計算してください\n",
        "print(sample_multi_prac)\n",
        "print(\"対角成分の表示\",np.diag(sample_multi_prac))\n",
        "print(\"対角成分の和\",np.trace(sample_multi_prac))"
      ],
      "metadata": {
        "colab": {
          "base_uri": "https://localhost:8080/"
        },
        "id": "oIl41W74Bk-k",
        "outputId": "ff87202d-4a1f-4b7f-af39-3e93573d9064"
      },
      "execution_count": null,
      "outputs": [
        {
          "output_type": "stream",
          "name": "stdout",
          "text": [
            "[[ 0  1  2  3]\n",
            " [ 4  5  6  7]\n",
            " [ 8  9 10 11]\n",
            " [12 13 14 15]]\n",
            "対角成分の表示 [ 0  5 10 15]\n",
            "対角成分の和 30\n"
          ]
        }
      ]
    },
    {
      "cell_type": "markdown",
      "source": [
        "## 配列操作とブロードキャスト"
      ],
      "metadata": {
        "id": "SoU3LE3PCMuv"
      }
    },
    {
      "cell_type": "markdown",
      "source": [
        "行列の次元を変更したり、結合・分割を行う"
      ],
      "metadata": {
        "id": "me-1fiQHCVgh"
      }
    },
    {
      "cell_type": "code",
      "source": [
        "#再形成（行列の次元を変えること）\n",
        "#基本データ\n",
        "sample_data = np.arange(10)\n",
        "print(sample_data)\n",
        "print()\n",
        "print(\"２行５列のデータ\")\n",
        "print(sample_data.reshape(2,5))"
      ],
      "metadata": {
        "colab": {
          "base_uri": "https://localhost:8080/"
        },
        "id": "M3rVc-ZfCeBz",
        "outputId": "1aceb562-d6a2-4378-bc86-38a5848d2323"
      },
      "execution_count": null,
      "outputs": [
        {
          "output_type": "stream",
          "name": "stdout",
          "text": [
            "[0 1 2 3 4 5 6 7 8 9]\n",
            "\n",
            "２行５列のデータ\n",
            "[[0 1 2 3 4]\n",
            " [5 6 7 8 9]]\n"
          ]
        }
      ]
    },
    {
      "cell_type": "markdown",
      "source": [
        "データの結合"
      ],
      "metadata": {
        "id": "cBAwA_fmFDH9"
      }
    },
    {
      "cell_type": "code",
      "source": [
        "#データ準備\n",
        "sample01 = np.arange(10).reshape(2,5)\n",
        "sample02 = np.arange(3,13).reshape(2,5)\n",
        "sample03 = np.arange(33,43).reshape(2,5)\n",
        "#次元数は揃えておくことが必要\n",
        "np.concatenate([sample01,sample02,sample03],axis=0)\n",
        "#axis=0で行方向に結合\n",
        "#vstackを使ってもできる（vertical方向に結合）\n",
        "\n",
        "print(\"axis=1で列方向に結合\")\n",
        "np.concatenate([sample01,sample02,sample03],axis=1)\n",
        "#hstackを使ってもできる（horizonal方向に結合）"
      ],
      "metadata": {
        "colab": {
          "base_uri": "https://localhost:8080/"
        },
        "id": "lUfsndrDFIU2",
        "outputId": "b6b5b329-d74a-4fb9-9847-e24181cd2117"
      },
      "execution_count": null,
      "outputs": [
        {
          "output_type": "stream",
          "name": "stdout",
          "text": [
            "axis=1で列方向に結合\n"
          ]
        },
        {
          "output_type": "execute_result",
          "data": {
            "text/plain": [
              "array([[ 0,  1,  2,  3,  4,  3,  4,  5,  6,  7, 33, 34, 35, 36, 37],\n",
              "       [ 5,  6,  7,  8,  9,  8,  9, 10, 11, 12, 38, 39, 40, 41, 42]])"
            ]
          },
          "metadata": {},
          "execution_count": 38
        }
      ]
    },
    {
      "cell_type": "markdown",
      "source": [
        "配列の分割"
      ],
      "metadata": {
        "id": "xJp_F2fhIIrT"
      }
    },
    {
      "cell_type": "code",
      "source": [
        "#splitを使って配列を分割する\n",
        "vstac_data = np.vstack([sample01,sample02,sample03])\n",
        "print(vstac_data)\n",
        "print()\n",
        "#vsatck_dataを３つに分割し、それぞれfirst,second,thirdという変数に格納\n",
        "first,second,third = np.split(vstac_data,[2,4])\n",
        "print(first)\n",
        "print()\n",
        "print(second)\n",
        "print()\n",
        "print(third)"
      ],
      "metadata": {
        "colab": {
          "base_uri": "https://localhost:8080/"
        },
        "id": "Bp3BCSjlCf4l",
        "outputId": "5191ffcf-726d-4ac0-8ecc-228e6d590ee4"
      },
      "execution_count": null,
      "outputs": [
        {
          "output_type": "stream",
          "name": "stdout",
          "text": [
            "[[ 0  1  2  3  4]\n",
            " [ 5  6  7  8  9]\n",
            " [ 3  4  5  6  7]\n",
            " [ 8  9 10 11 12]\n",
            " [33 34 35 36 37]\n",
            " [38 39 40 41 42]]\n",
            "\n",
            "[[0 1 2 3 4]\n",
            " [5 6 7 8 9]]\n",
            "\n",
            "[[ 3  4  5  6  7]\n",
            " [ 8  9 10 11 12]]\n",
            "\n",
            "[[33 34 35 36 37]\n",
            " [38 39 40 41 42]]\n"
          ]
        }
      ]
    },
    {
      "cell_type": "markdown",
      "source": [
        "繰り返し処理（repeat）"
      ],
      "metadata": {
        "id": "iVvee1gZJnZ8"
      }
    },
    {
      "cell_type": "code",
      "source": [
        "#repeatを使うと、各要素が、指定した回数分だけ繰り返されて生成される。\n",
        "print(first.repeat(100))"
      ],
      "metadata": {
        "colab": {
          "base_uri": "https://localhost:8080/"
        },
        "id": "GfP1J6knJrSM",
        "outputId": "c53b7ea2-05b6-4d76-9610-2db7556a00a4"
      },
      "execution_count": null,
      "outputs": [
        {
          "output_type": "stream",
          "name": "stdout",
          "text": [
            "[0 0 0 0 0 0 0 0 0 0 0 0 0 0 0 0 0 0 0 0 0 0 0 0 0 0 0 0 0 0 0 0 0 0 0 0 0\n",
            " 0 0 0 0 0 0 0 0 0 0 0 0 0 0 0 0 0 0 0 0 0 0 0 0 0 0 0 0 0 0 0 0 0 0 0 0 0\n",
            " 0 0 0 0 0 0 0 0 0 0 0 0 0 0 0 0 0 0 0 0 0 0 0 0 0 0 1 1 1 1 1 1 1 1 1 1 1\n",
            " 1 1 1 1 1 1 1 1 1 1 1 1 1 1 1 1 1 1 1 1 1 1 1 1 1 1 1 1 1 1 1 1 1 1 1 1 1\n",
            " 1 1 1 1 1 1 1 1 1 1 1 1 1 1 1 1 1 1 1 1 1 1 1 1 1 1 1 1 1 1 1 1 1 1 1 1 1\n",
            " 1 1 1 1 1 1 1 1 1 1 1 1 1 1 1 2 2 2 2 2 2 2 2 2 2 2 2 2 2 2 2 2 2 2 2 2 2\n",
            " 2 2 2 2 2 2 2 2 2 2 2 2 2 2 2 2 2 2 2 2 2 2 2 2 2 2 2 2 2 2 2 2 2 2 2 2 2\n",
            " 2 2 2 2 2 2 2 2 2 2 2 2 2 2 2 2 2 2 2 2 2 2 2 2 2 2 2 2 2 2 2 2 2 2 2 2 2\n",
            " 2 2 2 2 3 3 3 3 3 3 3 3 3 3 3 3 3 3 3 3 3 3 3 3 3 3 3 3 3 3 3 3 3 3 3 3 3\n",
            " 3 3 3 3 3 3 3 3 3 3 3 3 3 3 3 3 3 3 3 3 3 3 3 3 3 3 3 3 3 3 3 3 3 3 3 3 3\n",
            " 3 3 3 3 3 3 3 3 3 3 3 3 3 3 3 3 3 3 3 3 3 3 3 3 3 3 3 3 3 3 4 4 4 4 4 4 4\n",
            " 4 4 4 4 4 4 4 4 4 4 4 4 4 4 4 4 4 4 4 4 4 4 4 4 4 4 4 4 4 4 4 4 4 4 4 4 4\n",
            " 4 4 4 4 4 4 4 4 4 4 4 4 4 4 4 4 4 4 4 4 4 4 4 4 4 4 4 4 4 4 4 4 4 4 4 4 4\n",
            " 4 4 4 4 4 4 4 4 4 4 4 4 4 4 4 4 4 4 4 5 5 5 5 5 5 5 5 5 5 5 5 5 5 5 5 5 5\n",
            " 5 5 5 5 5 5 5 5 5 5 5 5 5 5 5 5 5 5 5 5 5 5 5 5 5 5 5 5 5 5 5 5 5 5 5 5 5\n",
            " 5 5 5 5 5 5 5 5 5 5 5 5 5 5 5 5 5 5 5 5 5 5 5 5 5 5 5 5 5 5 5 5 5 5 5 5 5\n",
            " 5 5 5 5 5 5 5 5 6 6 6 6 6 6 6 6 6 6 6 6 6 6 6 6 6 6 6 6 6 6 6 6 6 6 6 6 6\n",
            " 6 6 6 6 6 6 6 6 6 6 6 6 6 6 6 6 6 6 6 6 6 6 6 6 6 6 6 6 6 6 6 6 6 6 6 6 6\n",
            " 6 6 6 6 6 6 6 6 6 6 6 6 6 6 6 6 6 6 6 6 6 6 6 6 6 6 6 6 6 6 6 6 6 6 7 7 7\n",
            " 7 7 7 7 7 7 7 7 7 7 7 7 7 7 7 7 7 7 7 7 7 7 7 7 7 7 7 7 7 7 7 7 7 7 7 7 7\n",
            " 7 7 7 7 7 7 7 7 7 7 7 7 7 7 7 7 7 7 7 7 7 7 7 7 7 7 7 7 7 7 7 7 7 7 7 7 7\n",
            " 7 7 7 7 7 7 7 7 7 7 7 7 7 7 7 7 7 7 7 7 7 7 7 8 8 8 8 8 8 8 8 8 8 8 8 8 8\n",
            " 8 8 8 8 8 8 8 8 8 8 8 8 8 8 8 8 8 8 8 8 8 8 8 8 8 8 8 8 8 8 8 8 8 8 8 8 8\n",
            " 8 8 8 8 8 8 8 8 8 8 8 8 8 8 8 8 8 8 8 8 8 8 8 8 8 8 8 8 8 8 8 8 8 8 8 8 8\n",
            " 8 8 8 8 8 8 8 8 8 8 8 8 9 9 9 9 9 9 9 9 9 9 9 9 9 9 9 9 9 9 9 9 9 9 9 9 9\n",
            " 9 9 9 9 9 9 9 9 9 9 9 9 9 9 9 9 9 9 9 9 9 9 9 9 9 9 9 9 9 9 9 9 9 9 9 9 9\n",
            " 9 9 9 9 9 9 9 9 9 9 9 9 9 9 9 9 9 9 9 9 9 9 9 9 9 9 9 9 9 9 9 9 9 9 9 9 9\n",
            " 9]\n"
          ]
        }
      ]
    },
    {
      "cell_type": "markdown",
      "source": [
        "ブロードキャスト"
      ],
      "metadata": {
        "id": "aWgTJxCCJyVo"
      }
    },
    {
      "cell_type": "code",
      "source": [
        "#配列の大きさが異なっているときに、自動的に要素をコピーして、配列の大きさを揃える機能\n",
        "sample_data = np.arange(10,20)\n",
        "print(sample_data)\n",
        "print(sample_data + 5)"
      ],
      "metadata": {
        "colab": {
          "base_uri": "https://localhost:8080/"
        },
        "id": "-aKxjwSsJ7kD",
        "outputId": "e9d575ec-736d-42c7-aaae-17c88c98fd54"
      },
      "execution_count": null,
      "outputs": [
        {
          "output_type": "stream",
          "name": "stdout",
          "text": [
            "[10 11 12 13 14 15 16 17 18 19]\n",
            "[15 16 17 18 19 20 21 22 23 24]\n"
          ]
        }
      ]
    },
    {
      "cell_type": "markdown",
      "source": [
        "# 練習問題"
      ],
      "metadata": {
        "id": "g4ieRITPKwHG"
      }
    },
    {
      "cell_type": "code",
      "source": [
        "#練習問題5-7、5-8\n",
        "#２つの配列の結合\n",
        "prac_data01 = np.arange(12).reshape(3,4)\n",
        "prac_data02 = np.random.randn(12).reshape(3,4)\n",
        "print(\"基本データ\")\n",
        "print(prac_data01)\n",
        "print(prac_data02)\n",
        "\n",
        "print()\n",
        "print(\"縦方向に結合\")\n",
        "print(np.vstack([prac_data01,prac_data02]))\n",
        "print()\n",
        "print(\"横方向に結合\")\n",
        "print(np.hstack([prac_data01,prac_data02]))"
      ],
      "metadata": {
        "colab": {
          "base_uri": "https://localhost:8080/"
        },
        "id": "Cp8cSOXzK01P",
        "outputId": "b60bd3b1-87f0-48f0-d5f2-4e23019145cf"
      },
      "execution_count": null,
      "outputs": [
        {
          "output_type": "stream",
          "name": "stdout",
          "text": [
            "基本データ\n",
            "[[ 0  1  2  3]\n",
            " [ 4  5  6  7]\n",
            " [ 8  9 10 11]]\n",
            "[[ 0.46513165  0.07010071  0.4261321  -1.74118461]\n",
            " [-0.52575523  1.32364117 -1.58371261 -0.4101099 ]\n",
            " [-1.73201129  1.25565905  0.78964701 -0.02435958]]\n",
            "\n",
            "縦方向に結合\n",
            "[[ 0.          1.          2.          3.        ]\n",
            " [ 4.          5.          6.          7.        ]\n",
            " [ 8.          9.         10.         11.        ]\n",
            " [ 0.46513165  0.07010071  0.4261321  -1.74118461]\n",
            " [-0.52575523  1.32364117 -1.58371261 -0.4101099 ]\n",
            " [-1.73201129  1.25565905  0.78964701 -0.02435958]]\n",
            "\n",
            "横方向に結合\n",
            "[[ 0.          1.          2.          3.          0.46513165  0.07010071\n",
            "   0.4261321  -1.74118461]\n",
            " [ 4.          5.          6.          7.         -0.52575523  1.32364117\n",
            "  -1.58371261 -0.4101099 ]\n",
            " [ 8.          9.         10.         11.         -1.73201129  1.25565905\n",
            "   0.78964701 -0.02435958]]\n"
          ]
        }
      ]
    },
    {
      "cell_type": "code",
      "source": [
        "#練習問題5-9\n",
        "#サンプルデータの各要素に３を加える\n",
        "sample_list = [1,2,3,4,5]\n",
        "print(sample_list)\n",
        "print(np.array(sample_list) + 3)"
      ],
      "metadata": {
        "colab": {
          "base_uri": "https://localhost:8080/"
        },
        "id": "8LqJh-0aKGDM",
        "outputId": "4f02741b-378d-428c-f44f-e6e6c29940a1"
      },
      "execution_count": null,
      "outputs": [
        {
          "output_type": "stream",
          "name": "stdout",
          "text": [
            "[1, 2, 3, 4, 5]\n",
            "[4 5 6 7 8]\n"
          ]
        }
      ]
    }
  ]
}