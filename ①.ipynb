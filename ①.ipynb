{
  "nbformat": 4,
  "nbformat_minor": 0,
  "metadata": {
    "colab": {
      "provenance": [],
      "collapsed_sections": [],
      "authorship_tag": "ABX9TyNsA91KIR7R0d1nO51Dk8qY"
    },
    "kernelspec": {
      "name": "python3",
      "display_name": "Python 3"
    },
    "language_info": {
      "name": "python"
    }
  },
  "cells": [
    {
      "cell_type": "markdown",
      "source": [
        "リストの作成"
      ],
      "metadata": {
        "id": "kO2dgrHbsqNq"
      }
    },
    {
      "cell_type": "code",
      "source": [
        "data_list = [1,3,5,7,9]\n",
        "print(data_list)\n",
        "print(\"3番目の要素は{}\".format(data_list[2]))\n",
        "print(\"リストの要素数は{}\".format(len(data_list)))\n",
        "print(\"リスト自体を3倍にすると、、{}\".format(data_list*3))"
      ],
      "metadata": {
        "id": "_Or8dXMms9Oo",
        "colab": {
          "base_uri": "https://localhost:8080/"
        },
        "outputId": "52675789-8fc1-4cd6-8d58-743d2a00b544"
      },
      "execution_count": null,
      "outputs": [
        {
          "output_type": "stream",
          "name": "stdout",
          "text": [
            "[1, 3, 5, 7, 9]\n",
            "3番目の要素は5\n",
            "リストの要素数は5\n",
            "リスト自体を3倍にすると、、[1, 3, 5, 7, 9, 1, 3, 5, 7, 9, 1, 3, 5, 7, 9]\n"
          ]
        }
      ]
    },
    {
      "cell_type": "markdown",
      "source": [
        "リストに何か要素を追加したり、削除する"
      ],
      "metadata": {
        "id": "DqK6WX-Ftsky"
      }
    },
    {
      "cell_type": "code",
      "source": [
        "#リストへの要素の追加\n",
        "data_list.append(11)\n",
        "#リストの特定の位置の要素を削除\n",
        "data_list.pop(-1)\n",
        "\n",
        "data_list.append(11)\n",
        "#delを使って削除もできる\n",
        "del data_list[-1]\n",
        "\n",
        "data_list2 = [2,4,6,8,10]\n",
        "N_list = data_list + data_list2\n",
        "N_list"
      ],
      "metadata": {
        "colab": {
          "base_uri": "https://localhost:8080/"
        },
        "id": "7F4TnhWbwthn",
        "outputId": "c1241565-6b1a-4755-c4f5-7c33a035b123"
      },
      "execution_count": null,
      "outputs": [
        {
          "output_type": "execute_result",
          "data": {
            "text/plain": [
              "[1, 3, 5, 7, 9, 2, 4, 6, 8, 10]"
            ]
          },
          "metadata": {},
          "execution_count": 2
        }
      ]
    },
    {
      "cell_type": "markdown",
      "source": [
        "辞書型の操作"
      ],
      "metadata": {
        "id": "CNz4wv9ZB3MX"
      }
    },
    {
      "cell_type": "code",
      "source": [
        "dic_data = {\"apple\":100,\"banana\":100,\"orange\":300,\"mango\":400,\"melon\":500}\n",
        "print(dic_data[\"melon\"])\n",
        "print(dic_data[\"orange\"])\n",
        "#要素同士の足し算\n",
        "print(dic_data[\"apple\"]+dic_data[\"orange\"])\n",
        "\n",
        "#辞書型の要素の確認\n",
        "dic_data[\"watermelon\"] = 1000\n",
        "dic_data[\"strowbelly\"] = 2000\n",
        "\n",
        "#辞書型要素の削除 .pop()\n",
        "dic_data.pop(\"watermelon\")\n",
        "\n",
        "dic_data"
      ],
      "metadata": {
        "colab": {
          "base_uri": "https://localhost:8080/"
        },
        "id": "VQdxVUj8CE0u",
        "outputId": "50e1ce59-5f02-426c-834e-db56664f6e4b"
      },
      "execution_count": null,
      "outputs": [
        {
          "output_type": "stream",
          "name": "stdout",
          "text": [
            "500\n",
            "300\n",
            "400\n"
          ]
        },
        {
          "output_type": "execute_result",
          "data": {
            "text/plain": [
              "{'apple': 100,\n",
              " 'banana': 100,\n",
              " 'mango': 400,\n",
              " 'melon': 500,\n",
              " 'orange': 300,\n",
              " 'strowbelly': 2000}"
            ]
          },
          "metadata": {},
          "execution_count": 10
        }
      ]
    },
    {
      "cell_type": "markdown",
      "source": [
        "条件分岐とループ"
      ],
      "metadata": {
        "id": "bMeM1MnJECLH"
      }
    },
    {
      "cell_type": "code",
      "source": [
        "import random\n",
        "\n",
        "list = [1,2,3,4,6,78,9,43,23,97,56]\n",
        "\n",
        "findvalue = int(input(\"リストの中の数字は?>> \"))\n",
        "\n",
        "if findvalue in list:\n",
        "  print(\"{}はリストの中に含まれています\".format(findvalue))\n",
        "else:\n",
        "  print(\"リストの中には含まれていません\")\n"
      ],
      "metadata": {
        "colab": {
          "base_uri": "https://localhost:8080/"
        },
        "id": "csOhg0KeEGSr",
        "outputId": "1527a6a2-340d-4f17-ec3e-dccfe78024c6"
      },
      "execution_count": null,
      "outputs": [
        {
          "output_type": "stream",
          "name": "stdout",
          "text": [
            "リストの中の数字は?>> 1\n",
            "1はリストの中に含まれています\n"
          ]
        }
      ]
    },
    {
      "cell_type": "markdown",
      "source": [
        "内包表記"
      ],
      "metadata": {
        "id": "ZhHMl4OsIELP"
      }
    },
    {
      "cell_type": "code",
      "source": [
        "#dic_dataのkey,valueを取り出す\n",
        "for key,value in dic_data.items():\n",
        "  print(key,value)"
      ],
      "metadata": {
        "colab": {
          "base_uri": "https://localhost:8080/"
        },
        "id": "w51npOSiIGSu",
        "outputId": "ebc3a3bc-b4c7-4ef5-e832-bf52532b32ff"
      },
      "execution_count": null,
      "outputs": [
        {
          "output_type": "stream",
          "name": "stdout",
          "text": [
            "apple 100\n",
            "banana 100\n",
            "orange 300\n",
            "mango 400\n",
            "melon 500\n",
            "strowbelly 2000\n"
          ]
        }
      ]
    },
    {
      "cell_type": "code",
      "source": [],
      "metadata": {
        "id": "gWXWNMibJSPB"
      },
      "execution_count": null,
      "outputs": []
    },
    {
      "cell_type": "code",
      "source": [
        "#リスト内の要素の値を2倍して新たなリストに格納する\n",
        "list_2 = [] #空のリストを用意\n",
        "list_2 = [i*2 for i in list]\n",
        "list_2"
      ],
      "metadata": {
        "colab": {
          "base_uri": "https://localhost:8080/"
        },
        "id": "VxMGFe9QIUq6",
        "outputId": "704e9e44-dc1e-4530-eab2-5f57aa9fe57a"
      },
      "execution_count": null,
      "outputs": [
        {
          "output_type": "execute_result",
          "data": {
            "text/plain": [
              "[2, 4, 6, 8, 12, 156, 18, 86, 46, 194, 112]"
            ]
          },
          "metadata": {},
          "execution_count": 26
        }
      ]
    },
    {
      "cell_type": "markdown",
      "source": [
        "関数"
      ],
      "metadata": {
        "id": "wGGSubtuJReQ"
      }
    },
    {
      "cell_type": "code",
      "source": [
        "#入力した数値同士を掛け算する関数\n",
        "def cal(a,b):\n",
        "  return a*b\n",
        "\n",
        "a = int(input(\"初めの数値は？＞＞　\"))\n",
        "b = int(input(\"2つ目の数値は？＞＞　\"))\n",
        "cal(a,b)\n",
        "\n",
        "\n"
      ],
      "metadata": {
        "id": "mCcM4im1JU_i"
      },
      "execution_count": null,
      "outputs": []
    },
    {
      "cell_type": "markdown",
      "source": [
        "フィボナッチ数列の記述①（再帰関数）"
      ],
      "metadata": {
        "id": "KgIIBBEhLsLx"
      }
    },
    {
      "cell_type": "code",
      "source": [
        "#10個のフィボナッチ数列を記述する\n",
        "def fib_cal(n):\n",
        "  if n ==1 or n==2:\n",
        "    return 1\n",
        "  else:\n",
        "    return fib_cal(n-1) + fib_cal(n-2)\n",
        "n = int(input())\n",
        "fib_cal(n)"
      ],
      "metadata": {
        "colab": {
          "base_uri": "https://localhost:8080/",
          "height": 418
        },
        "id": "fJebT3iZLPKA",
        "outputId": "b2cd891d-1254-4e59-a20c-ad86e802f530"
      },
      "execution_count": null,
      "outputs": [
        {
          "name": "stdout",
          "output_type": "stream",
          "text": [
            "120120\n"
          ]
        },
        {
          "output_type": "error",
          "ename": "RecursionError",
          "evalue": "ignored",
          "traceback": [
            "\u001b[0;31m---------------------------------------------------------------------------\u001b[0m",
            "\u001b[0;31mRecursionError\u001b[0m                            Traceback (most recent call last)",
            "\u001b[0;32m<ipython-input-48-5a54591fa587>\u001b[0m in \u001b[0;36m<module>\u001b[0;34m()\u001b[0m\n\u001b[1;32m      6\u001b[0m     \u001b[0;32mreturn\u001b[0m \u001b[0mfib_cal\u001b[0m\u001b[0;34m(\u001b[0m\u001b[0mn\u001b[0m\u001b[0;34m-\u001b[0m\u001b[0;36m1\u001b[0m\u001b[0;34m)\u001b[0m \u001b[0;34m+\u001b[0m \u001b[0mfib_cal\u001b[0m\u001b[0;34m(\u001b[0m\u001b[0mn\u001b[0m\u001b[0;34m-\u001b[0m\u001b[0;36m2\u001b[0m\u001b[0;34m)\u001b[0m\u001b[0;34m\u001b[0m\u001b[0;34m\u001b[0m\u001b[0m\n\u001b[1;32m      7\u001b[0m \u001b[0mn\u001b[0m \u001b[0;34m=\u001b[0m \u001b[0mint\u001b[0m\u001b[0;34m(\u001b[0m\u001b[0minput\u001b[0m\u001b[0;34m(\u001b[0m\u001b[0;34m)\u001b[0m\u001b[0;34m)\u001b[0m\u001b[0;34m\u001b[0m\u001b[0;34m\u001b[0m\u001b[0m\n\u001b[0;32m----> 8\u001b[0;31m \u001b[0mfib_cal\u001b[0m\u001b[0;34m(\u001b[0m\u001b[0mn\u001b[0m\u001b[0;34m)\u001b[0m\u001b[0;34m\u001b[0m\u001b[0;34m\u001b[0m\u001b[0m\n\u001b[0m",
            "\u001b[0;32m<ipython-input-48-5a54591fa587>\u001b[0m in \u001b[0;36mfib_cal\u001b[0;34m(n)\u001b[0m\n\u001b[1;32m      4\u001b[0m     \u001b[0;32mreturn\u001b[0m \u001b[0;36m1\u001b[0m\u001b[0;34m\u001b[0m\u001b[0;34m\u001b[0m\u001b[0m\n\u001b[1;32m      5\u001b[0m   \u001b[0;32melse\u001b[0m\u001b[0;34m:\u001b[0m\u001b[0;34m\u001b[0m\u001b[0;34m\u001b[0m\u001b[0m\n\u001b[0;32m----> 6\u001b[0;31m     \u001b[0;32mreturn\u001b[0m \u001b[0mfib_cal\u001b[0m\u001b[0;34m(\u001b[0m\u001b[0mn\u001b[0m\u001b[0;34m-\u001b[0m\u001b[0;36m1\u001b[0m\u001b[0;34m)\u001b[0m \u001b[0;34m+\u001b[0m \u001b[0mfib_cal\u001b[0m\u001b[0;34m(\u001b[0m\u001b[0mn\u001b[0m\u001b[0;34m-\u001b[0m\u001b[0;36m2\u001b[0m\u001b[0;34m)\u001b[0m\u001b[0;34m\u001b[0m\u001b[0;34m\u001b[0m\u001b[0m\n\u001b[0m\u001b[1;32m      7\u001b[0m \u001b[0mn\u001b[0m \u001b[0;34m=\u001b[0m \u001b[0mint\u001b[0m\u001b[0;34m(\u001b[0m\u001b[0minput\u001b[0m\u001b[0;34m(\u001b[0m\u001b[0;34m)\u001b[0m\u001b[0;34m)\u001b[0m\u001b[0;34m\u001b[0m\u001b[0;34m\u001b[0m\u001b[0m\n\u001b[1;32m      8\u001b[0m \u001b[0mfib_cal\u001b[0m\u001b[0;34m(\u001b[0m\u001b[0mn\u001b[0m\u001b[0;34m)\u001b[0m\u001b[0;34m\u001b[0m\u001b[0;34m\u001b[0m\u001b[0m\n",
            "... last 1 frames repeated, from the frame below ...\n",
            "\u001b[0;32m<ipython-input-48-5a54591fa587>\u001b[0m in \u001b[0;36mfib_cal\u001b[0;34m(n)\u001b[0m\n\u001b[1;32m      4\u001b[0m     \u001b[0;32mreturn\u001b[0m \u001b[0;36m1\u001b[0m\u001b[0;34m\u001b[0m\u001b[0;34m\u001b[0m\u001b[0m\n\u001b[1;32m      5\u001b[0m   \u001b[0;32melse\u001b[0m\u001b[0;34m:\u001b[0m\u001b[0;34m\u001b[0m\u001b[0;34m\u001b[0m\u001b[0m\n\u001b[0;32m----> 6\u001b[0;31m     \u001b[0;32mreturn\u001b[0m \u001b[0mfib_cal\u001b[0m\u001b[0;34m(\u001b[0m\u001b[0mn\u001b[0m\u001b[0;34m-\u001b[0m\u001b[0;36m1\u001b[0m\u001b[0;34m)\u001b[0m \u001b[0;34m+\u001b[0m \u001b[0mfib_cal\u001b[0m\u001b[0;34m(\u001b[0m\u001b[0mn\u001b[0m\u001b[0;34m-\u001b[0m\u001b[0;36m2\u001b[0m\u001b[0;34m)\u001b[0m\u001b[0;34m\u001b[0m\u001b[0;34m\u001b[0m\u001b[0m\n\u001b[0m\u001b[1;32m      7\u001b[0m \u001b[0mn\u001b[0m \u001b[0;34m=\u001b[0m \u001b[0mint\u001b[0m\u001b[0;34m(\u001b[0m\u001b[0minput\u001b[0m\u001b[0;34m(\u001b[0m\u001b[0;34m)\u001b[0m\u001b[0;34m)\u001b[0m\u001b[0;34m\u001b[0m\u001b[0;34m\u001b[0m\u001b[0m\n\u001b[1;32m      8\u001b[0m \u001b[0mfib_cal\u001b[0m\u001b[0;34m(\u001b[0m\u001b[0mn\u001b[0m\u001b[0;34m)\u001b[0m\u001b[0;34m\u001b[0m\u001b[0;34m\u001b[0m\u001b[0m\n",
            "\u001b[0;31mRecursionError\u001b[0m: maximum recursion depth exceeded in comparison"
          ]
        }
      ]
    },
    {
      "cell_type": "markdown",
      "source": [
        "フィボナッチ数列②（ifとforの組み合わせ）"
      ],
      "metadata": {
        "id": "OSlJLQSTLyn1"
      }
    },
    {
      "cell_type": "code",
      "source": [
        "n = int(input(\"引数は？＞＞\"))\n",
        "fib = 0 #フィボナッチ数の初期値\n",
        "fib_1 = 1\n",
        "fib_2 = 0\n",
        "\n",
        "for i in range(n-1):\n",
        "    fib = fib_1 + fib_2\n",
        "    fib_2 = fib_1\n",
        "    fib_1 = fib\n",
        "print(\"引数{}のフィボナッチ数は{}\".format(n,fib))"
      ],
      "metadata": {
        "colab": {
          "base_uri": "https://localhost:8080/"
        },
        "id": "uNXQtEk7L5O8",
        "outputId": "1806c64a-62dd-4114-bb8e-b9fc5a4960f8"
      },
      "execution_count": null,
      "outputs": [
        {
          "output_type": "stream",
          "name": "stdout",
          "text": [
            "引数は？＞＞120\n",
            "引数120のフィボナッチ数は5358359254990966640871840\n"
          ]
        }
      ]
    },
    {
      "cell_type": "markdown",
      "source": [
        "無名関数"
      ],
      "metadata": {
        "id": "2cUUecMOOwjD"
      }
    },
    {
      "cell_type": "code",
      "source": [
        "(lambda a,b: a*b)(3,10)"
      ],
      "metadata": {
        "colab": {
          "base_uri": "https://localhost:8080/"
        },
        "id": "fiBDvd5oOyQN",
        "outputId": "3ca1073c-9907-41d8-e18d-1f00a2dc8175"
      },
      "execution_count": null,
      "outputs": [
        {
          "output_type": "execute_result",
          "data": {
            "text/plain": [
              "30"
            ]
          },
          "metadata": {},
          "execution_count": 52
        }
      ]
    },
    {
      "cell_type": "markdown",
      "source": [
        "Practicce①\n",
        "deta Scienceという文字列を変数に格納して１文字ずつ表示させる"
      ],
      "metadata": {
        "id": "0dSA6V0gDx1W"
      }
    },
    {
      "cell_type": "code",
      "source": [
        "n = str(input(\"文字列を入力してください>> \"))\n",
        "\n",
        "for i in range(len(n)):\n",
        "  print(n[i])"
      ],
      "metadata": {
        "colab": {
          "base_uri": "https://localhost:8080/"
        },
        "id": "dTMM5lKfEAC8",
        "outputId": "e2a2ee63-e479-4a29-e323-1d6fa0dc73c5"
      },
      "execution_count": null,
      "outputs": [
        {
          "output_type": "stream",
          "name": "stdout",
          "text": [
            "文字列を入力してください>> data Science\n",
            "d\n",
            "a\n",
            "t\n",
            "a\n",
            " \n",
            "S\n",
            "c\n",
            "i\n",
            "e\n",
            "n\n",
            "c\n",
            "e\n"
          ]
        }
      ]
    },
    {
      "cell_type": "markdown",
      "source": [
        "Practice② 1から指定数までの数値の和を計算するプログラムを作成して、その計算結果を表示させる"
      ],
      "metadata": {
        "id": "ezcFZNgiD7iv"
      }
    },
    {
      "cell_type": "code",
      "source": [
        "x = int(input(\"数値を入力してください>> \"))\n",
        "ans = 0\n",
        "for i in range(1,x+1):\n",
        "  ans = ans + i\n",
        "print(\"1から{}までの自然数の和は{}\".format(x,ans))\n",
        "\n",
        "#2つ目の計算方法（数列の公式）\n",
        "ans_2 = x*(x+1)/2\n",
        "print(ans_2)"
      ],
      "metadata": {
        "colab": {
          "base_uri": "https://localhost:8080/"
        },
        "id": "BwO0VBv7Ewcv",
        "outputId": "2d89f0e0-d87e-4cc6-aec2-6f7de0a13ad4"
      },
      "execution_count": null,
      "outputs": [
        {
          "output_type": "stream",
          "name": "stdout",
          "text": [
            "数値を入力してください>> 50\n",
            "1から50までの自然数の和は1275\n",
            "1275.0\n"
          ]
        }
      ]
    },
    {
      "cell_type": "markdown",
      "source": [
        "## 総合演習問題"
      ],
      "metadata": {
        "id": "mylrqzEuHom7"
      }
    },
    {
      "cell_type": "markdown",
      "source": [
        "1.自然数Nまでの素数を表示するプログラムを書いてください。"
      ],
      "metadata": {
        "id": "kY1NOPZxHsC3"
      }
    },
    {
      "cell_type": "code",
      "source": [
        "x = int(input(\"数字を入力してください。\"))\n",
        "lst = []\n",
        "\n",
        "#以下、素数判定プログラム。\n",
        "#1からその数字（A）までの数字でAを割ることを繰り返して、あまりが0の場合、カウンターに1を追加する。カウンターの数字が2であればAは素数。\n",
        "for i in range(2,x+1):\n",
        "  n = 0 #カウンターを初期化\n",
        "  for l in range(1,i+1):\n",
        "    if i%l == 0:\n",
        "      n = n +1\n",
        "  if n == 2:\n",
        "    lst.append(i)\n",
        "print(lst)"
      ],
      "metadata": {
        "colab": {
          "base_uri": "https://localhost:8080/"
        },
        "id": "JTrIcDy2H2su",
        "outputId": "fd752511-bdb1-4048-83f1-d5177e097eb7"
      },
      "execution_count": null,
      "outputs": [
        {
          "output_type": "stream",
          "name": "stdout",
          "text": [
            "数字を入力してください。100\n",
            "[2, 3, 5, 7, 11, 13, 17, 19, 23, 29, 31, 37, 41, 43, 47, 53, 59, 61, 67, 71, 73, 79, 83, 89, 97]\n"
          ]
        }
      ]
    }
  ]
}