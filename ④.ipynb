{
  "nbformat": 4,
  "nbformat_minor": 0,
  "metadata": {
    "colab": {
      "provenance": [],
      "collapsed_sections": [],
      "mount_file_id": "1jwGO4WrdN9nkewSfafqiK7fUh3hCsJjL",
      "authorship_tag": "ABX9TyN9ymcTyx70i9EEB1/Z+7VX"
    },
    "kernelspec": {
      "name": "python3",
      "display_name": "Python 3"
    },
    "language_info": {
      "name": "python"
    }
  },
  "cells": [
    {
      "cell_type": "code",
      "execution_count": null,
      "metadata": {
        "id": "x64YzbF0rNHP"
      },
      "outputs": [],
      "source": [
        "#必要ライブラリにインポート\n",
        "import numpy as np\n",
        "import scipy as sp\n",
        "import pandas as pd\n",
        "from pandas import Series,DataFrame\n",
        "import random as rd\n",
        "\n",
        "#可視化ライブラリ\n",
        "import matplotlib as mpl\n",
        "import matplotlib.pyplot as plt\n",
        "import seaborn as sns\n",
        "\n",
        "%precision 3\n",
        "#小数第3位まで表示\n",
        "\n",
        "np.random.seed(0) #ランダムシードの固定"
      ]
    },
    {
      "cell_type": "markdown",
      "source": [
        "## **確率**"
      ],
      "metadata": {
        "id": "nd26s8t8sttT"
      }
    },
    {
      "cell_type": "code",
      "source": [
        "#サイコロがとりうる値を配列に格納\n",
        "dice_data = np.array([1,2,3,4,5,6])\n",
        "dice_data"
      ],
      "metadata": {
        "colab": {
          "base_uri": "https://localhost:8080/"
        },
        "id": "pRZxzmeMswR2",
        "outputId": "0252de8a-52c6-47c0-d775-15ff42233e92"
      },
      "execution_count": null,
      "outputs": [
        {
          "output_type": "execute_result",
          "data": {
            "text/plain": [
              "array([1, 2, 3, 4, 5, 6])"
            ]
          },
          "metadata": {},
          "execution_count": 2
        }
      ]
    },
    {
      "cell_type": "markdown",
      "source": [
        "【事象】データの中からランダムな値を1つ取り出す"
      ],
      "metadata": {
        "id": "CTasLYlSt0xK"
      }
    },
    {
      "cell_type": "code",
      "source": [
        "print(\"ランダムな値を1つだけ抽出\",np.random.choice(dice_data,1))"
      ],
      "metadata": {
        "colab": {
          "base_uri": "https://localhost:8080/"
        },
        "id": "P5Lw2ZmLt_AJ",
        "outputId": "ee70468f-eddb-485d-91ea-e49f51a6017e"
      },
      "execution_count": null,
      "outputs": [
        {
          "output_type": "stream",
          "name": "stdout",
          "text": [
            "ランダムな値を1つだけ抽出 [6]\n"
          ]
        }
      ]
    },
    {
      "cell_type": "markdown",
      "source": [
        "# 統計的確率\n",
        "サイコロを1000回振るシミュレーション"
      ],
      "metadata": {
        "id": "XewywO6nuT7a"
      }
    },
    {
      "cell_type": "code",
      "source": [
        "#サイコロを振る回数を指定\n",
        "calc_steps = int(input(\"サイコロを振る回数を入力してください＞＞　\"))\n",
        "\n",
        "#１～６のデータから、指定回数分のデータの抽出を実施\n",
        "dice_result = np.random.choice(dice_data,calc_steps)\n",
        "\n",
        "#それぞれの目がどれくらいの割合でたか計算\n",
        "for i in range(1,7):\n",
        "  p = len(dice_result[dice_result == i]) / calc_steps\n",
        "  print(\"{}が出る確率は{}%です\".format(i,p))"
      ],
      "metadata": {
        "colab": {
          "base_uri": "https://localhost:8080/"
        },
        "id": "mkJgrB6Hu-Th",
        "outputId": "60e2bba8-6c74-48e8-89f8-2d6fc25ff7d5"
      },
      "execution_count": null,
      "outputs": [
        {
          "output_type": "stream",
          "name": "stdout",
          "text": [
            "サイコロを振る回数を入力してください＞＞　10000\n",
            "1が出る確率は0.1669%です\n",
            "2が出る確率は0.1714%です\n",
            "3が出る確率は0.1601%です\n",
            "4が出る確率は0.1706%です\n",
            "5が出る確率は0.1645%です\n",
            "6が出る確率は0.1665%です\n"
          ]
        }
      ]
    },
    {
      "cell_type": "markdown",
      "source": [
        "# 練習問題"
      ],
      "metadata": {
        "id": "V-bAqj1mxQfC"
      }
    },
    {
      "cell_type": "markdown",
      "source": [
        "練習問題4-1"
      ],
      "metadata": {
        "id": "vklzJvAQy5Sp"
      }
    },
    {
      "cell_type": "markdown",
      "source": [
        "コインの表を0、裏を1として1000回投げた時の表裏それぞれが出る確率を計算する"
      ],
      "metadata": {
        "id": "9jwJoK20y-kE"
      }
    },
    {
      "cell_type": "code",
      "source": [
        "coin_data = np.array([0,1])\n",
        "\n",
        "coin_result = np.random.choice(coin_data,1000000)\n",
        "\n",
        "for i in range(0,2):\n",
        "  c = len(coin_result[coin_result == i]) / 1000000\n",
        "  print(i,\"が出る確率は\",c,\"です。\")"
      ],
      "metadata": {
        "colab": {
          "base_uri": "https://localhost:8080/"
        },
        "id": "OV0S5Z_dzFb6",
        "outputId": "53b9e48b-a5c4-4539-e0fb-3d367dd8854f"
      },
      "execution_count": null,
      "outputs": [
        {
          "output_type": "stream",
          "name": "stdout",
          "text": [
            "0 が出る確率は 0.500845 です。\n",
            "1 が出る確率は 0.499155 です。\n"
          ]
        }
      ]
    },
    {
      "cell_type": "markdown",
      "source": [
        "練習問題4-2"
      ],
      "metadata": {
        "id": "w7kI2aAh0UwV"
      }
    },
    {
      "cell_type": "markdown",
      "source": [
        "1000本のくじの中に、100本のあたりくじがあります。AくんとBくんが順にくじを引いて、２人とも当たる確率を求める。"
      ],
      "metadata": {
        "id": "AYY801g_zE4o"
      }
    },
    {
      "cell_type": "code",
      "source": [
        "#条件設定\n",
        "print(\"まずは、条件設定\")\n",
        "kuji_num = int(input(\"くじの総数を決めてください。＞＞　\"))\n",
        "atari_kuji = int(input(\"あたりくじの本数を決めてください。＞＞\"))\n",
        "\n",
        "#計算過程\n",
        "A = atari_kuji / kuji_num\n",
        "print(\"Aくんが当たる確率は、\",A)\n",
        "kuji_num = kuji_num - 1\n",
        "atari_kuji = atari_kuji - 1\n",
        "B = atari_kuji / kuji_num\n",
        "print(\"Bくんが当たる確率は、\",B)\n",
        "print(\"よって求める確率は、\",A*B)"
      ],
      "metadata": {
        "colab": {
          "base_uri": "https://localhost:8080/"
        },
        "id": "MPUOw3D80v1c",
        "outputId": "1bb8f55b-2e94-41b1-fda0-5fdd07ba6c6d"
      },
      "execution_count": null,
      "outputs": [
        {
          "output_type": "stream",
          "name": "stdout",
          "text": [
            "まずは、条件設定\n",
            "くじの総数を決めてください。＞＞　1000\n",
            "あたりくじの本数を決めてください。＞＞100\n",
            "Aくんが当たる確率は、 0.1\n",
            "Bくんが当たる確率は、 0.0990990990990991\n",
            "よって求める確率は、 0.009909909909909911\n"
          ]
        }
      ]
    },
    {
      "cell_type": "markdown",
      "source": [
        "練習問題4-3"
      ],
      "metadata": {
        "id": "OcDvPxK73b2Y"
      }
    },
    {
      "cell_type": "markdown",
      "source": [
        "日本国内で病気（X）になっている人は0.1%　検査方法は次の通り。\n",
        "\n",
        "\n",
        "*   その病気の人がその検査を受けると99%は陽性反応\n",
        "*   その病気でない人がその検査を受けると3%が陽性反応（誤診）\n",
        "\n",
        "日本に住んでいる人がこの検査を受けた時、陽性反応を示しました。この人が病気である確率は何％でしょうか。\n",
        "\n"
      ],
      "metadata": {
        "id": "vsPATpTR3fyy"
      }
    },
    {
      "cell_type": "code",
      "source": [
        "#日本人が検査を受けて、陽性反応が出る確率\n",
        "P = 0.001*0.99 + 0.03*(1-0.001)\n",
        "\n",
        "#その人が病気で、陽性反応が出る確率\n",
        "P_puls = 0.001*0.99\n",
        "\n",
        "print(\"求める確率は\",P_puls / P *100,\"%\")"
      ],
      "metadata": {
        "colab": {
          "base_uri": "https://localhost:8080/"
        },
        "id": "UuQDMejK4LMd",
        "outputId": "d1f9f3d1-5725-4636-f649-6b2d28d2d7ed"
      },
      "execution_count": null,
      "outputs": [
        {
          "output_type": "stream",
          "name": "stdout",
          "text": [
            "求める確率は 3.1976744186046515 %\n"
          ]
        }
      ]
    },
    {
      "cell_type": "markdown",
      "source": [
        "## 確率変数と確率分布"
      ],
      "metadata": {
        "id": "VVeTVmwfkBKV"
      }
    },
    {
      "cell_type": "markdown",
      "source": [
        "一様分布のグラフ化（サイコロの出る目）"
      ],
      "metadata": {
        "id": "8Iad2ia3kFFQ"
      }
    },
    {
      "cell_type": "code",
      "source": [
        "#サイコロを1000回振る\n",
        "calc_steps = 1000\n",
        "\n",
        "#サイコロの出る目のデータから1000回の抽出を実施\n",
        "#dice_rollsの中に1000個の要素を格納する\n",
        "dice_rolls = np.random.choice(dice_data,calc_steps)\n",
        "\n",
        "#それぞれの数字がどれくらいの割合で出たか計算\n",
        "\n",
        "#空の配列を用意\n",
        "prob_data = np.array([])\n",
        "for i in range(1,7):\n",
        "  #len()にて、dice_rollsの配列の中でi値の数を数えている\n",
        "  p = len(dice_rolls[dice_rolls==i])/calc_steps\n",
        "  #np.append(追加先の配列,追加する要素)\n",
        "  prob_data = np.append(prob_data,p)\n",
        "\n",
        "plt.bar(dice_data,prob_data)\n",
        "plt.grid(True)"
      ],
      "metadata": {
        "colab": {
          "base_uri": "https://localhost:8080/",
          "height": 265
        },
        "id": "-f3GhwVclsqf",
        "outputId": "32a21e95-0e5b-4cff-9197-b1ff0f414c54"
      },
      "execution_count": null,
      "outputs": [
        {
          "output_type": "display_data",
          "data": {
            "text/plain": [
              "<Figure size 432x288 with 1 Axes>"
            ],
            "image/png": "[encoded data removed]"
          },
          "metadata": {
            "needs_background": "light"
          }
        }
      ]
    },
    {
      "cell_type": "markdown",
      "source": [],
      "metadata": {
        "id": "X4ljCijSow-n"
      }
    },
    {
      "cell_type": "markdown",
      "source": [
        "ベルヌーイ分布"
      ],
      "metadata": {
        "id": "nc5XObAMoxl9"
      }
    },
    {
      "cell_type": "code",
      "source": [
        "#結果が２種類しかない試行・・・ベルヌーイ試行（例えば、コインの表裏）\n",
        "coin_data = np.array([0,1])\n",
        "calc_steps = 1000\n",
        "\n",
        "coin_result = np.random.choice(coin_data,calc_steps)\n",
        "\n",
        "data = np.array([])\n",
        "for i in range(0,2):\n",
        "  p = len(coin_result[coin_result==i])/calc_steps\n",
        "  data = np.append(data,p)\n",
        "\n",
        "print(data)\n",
        "plt.bar(coin_data,data)\n",
        "plt.grid(True)\n"
      ],
      "metadata": {
        "colab": {
          "base_uri": "https://localhost:8080/",
          "height": 283
        },
        "id": "iPCLRn5xmsgc",
        "outputId": "4eeda0d9-2210-4228-c5eb-fcbe64461db1"
      },
      "execution_count": null,
      "outputs": [
        {
          "output_type": "stream",
          "name": "stdout",
          "text": [
            "[0.519 0.481]\n"
          ]
        },
        {
          "output_type": "display_data",
          "data": {
            "text/plain": [
              "<Figure size 432x288 with 1 Axes>"
            ],
            "image/png": "[encoded data removed]"
          },
          "metadata": {
            "needs_background": "light"
          }
        }
      ]
    },
    {
      "cell_type": "markdown",
      "source": [
        "二項分布"
      ],
      "metadata": {
        "id": "CiXKgP10CxcR"
      }
    },
    {
      "cell_type": "markdown",
      "source": [
        "ベルヌーイ試行をn回繰り返す"
      ],
      "metadata": {
        "id": "MkGeB49SC5qN"
      }
    },
    {
      "cell_type": "code",
      "source": [
        "np.random.seed(0)\n",
        "#引数：試行回数(n)、確率(p)、サンプル数\n",
        "x = np.random.binomial(100,0.3,1000)\n",
        "\n",
        "plt.hist(x)\n",
        "plt.grid(True)"
      ],
      "metadata": {
        "colab": {
          "base_uri": "https://localhost:8080/",
          "height": 265
        },
        "id": "w4VZMVTXC612",
        "outputId": "267eba28-b74b-4bff-f6a1-185d2f1e6d68"
      },
      "execution_count": null,
      "outputs": [
        {
          "output_type": "display_data",
          "data": {
            "text/plain": [
              "<Figure size 432x288 with 1 Axes>"
            ],
            "image/png": "[encoded data removed]"
          },
          "metadata": {
            "needs_background": "light"
          }
        }
      ]
    },
    {
      "cell_type": "markdown",
      "source": [
        "# ポアソン分布"
      ],
      "metadata": {
        "id": "cRED4AT0DYuz"
      }
    },
    {
      "cell_type": "markdown",
      "source": [
        "稀有な事象が発生するときの確率"
      ],
      "metadata": {
        "id": "1X3i9LSZDdp5"
      }
    },
    {
      "cell_type": "code",
      "source": [
        "y = np.random.poisson(8,1000)\n",
        "plt.hist(y)\n",
        "plt.grid(True)"
      ],
      "metadata": {
        "colab": {
          "base_uri": "https://localhost:8080/",
          "height": 267
        },
        "id": "_tGNW1kfDrJT",
        "outputId": "d1923491-5be3-44a0-ef46-86bab6424a6c"
      },
      "execution_count": null,
      "outputs": [
        {
          "output_type": "display_data",
          "data": {
            "text/plain": [
              "<Figure size 432x288 with 1 Axes>"
            ],
            "image/png": "[encoded data removed]"
          },
          "metadata": {
            "needs_background": "light"
          }
        }
      ]
    },
    {
      "cell_type": "markdown",
      "source": [
        "#正規分布"
      ],
      "metadata": {
        "id": "8B_3YGcHEwWU"
      }
    },
    {
      "cell_type": "code",
      "source": [
        "#np.random.normal(平均,標準偏差,サンプル数)\n",
        "x = np.random.normal(0,0.3,100000)\n",
        "plt.hist(x)\n",
        "plt.grid(True)"
      ],
      "metadata": {
        "colab": {
          "base_uri": "https://localhost:8080/",
          "height": 265
        },
        "id": "wCi1AvKjE_Ye",
        "outputId": "a6652f54-77f0-41f2-af23-860148fa4ab6"
      },
      "execution_count": null,
      "outputs": [
        {
          "output_type": "display_data",
          "data": {
            "text/plain": [
              "<Figure size 432x288 with 1 Axes>"
            ],
            "image/png": "[encoded data removed]"
          },
          "metadata": {
            "needs_background": "light"
          }
        }
      ]
    },
    {
      "cell_type": "code",
      "source": [
        "#対数正規分布\n",
        "x  = np.random.lognormal(30,0.7,1000)\n",
        "plt.hist(x)\n",
        "plt.grid(True)\n"
      ],
      "metadata": {
        "colab": {
          "base_uri": "https://localhost:8080/",
          "height": 278
        },
        "id": "DA3gvGWQE8Gq",
        "outputId": "728d21bc-0c98-4f47-e257-b3947716bcfe"
      },
      "execution_count": null,
      "outputs": [
        {
          "output_type": "display_data",
          "data": {
            "text/plain": [
              "<Figure size 432x288 with 1 Axes>"
            ],
            "image/png": "[encoded data removed]"
          },
          "metadata": {
            "needs_background": "light"
          }
        }
      ]
    },
    {
      "cell_type": "markdown",
      "source": [
        "#Practice"
      ],
      "metadata": {
        "id": "1LT6H387T960"
      }
    },
    {
      "cell_type": "markdown",
      "source": [
        "練習問題4-4"
      ],
      "metadata": {
        "id": "0PzSCxsYUOj5"
      }
    },
    {
      "cell_type": "markdown",
      "source": [
        "平均0、分散1の正規分布からn=100の標本抽出を10000回繰り返して、標本平均の標本分布を描く"
      ],
      "metadata": {
        "id": "kZ_BMVu9URs9"
      }
    },
    {
      "cell_type": "code",
      "source": [
        "np.random.seed(0)\n",
        "#試行回数の設定\n",
        "calc_steps = 10000\n",
        "#標本平均格納用配列を生成\n",
        "hist_data = np.array([])\n",
        "\n",
        "for i in range(calc_steps):\n",
        "#平均0、分散１の正規分布から100の乱数を生成する\n",
        "#np.random.randn(列数、行数)\n",
        " sample = np.random.rand(100)\n",
        " X = np.mean(sample)\n",
        " #得られた標本平均を配列に格納\n",
        " hist_data = np.append(hist_data,X)\n",
        "\n",
        "#ヒストグラムの描画\n",
        "plt.hist(hist_data)\n",
        "plt.grid(True)\n"
      ],
      "metadata": {
        "colab": {
          "base_uri": "https://localhost:8080/",
          "height": 267
        },
        "id": "378uA1-QUmu_",
        "outputId": "45f6067c-e771-44af-be53-5ffc7b2bf9fa"
      },
      "execution_count": null,
      "outputs": [
        {
          "output_type": "display_data",
          "data": {
            "text/plain": [
              "<Figure size 432x288 with 1 Axes>"
            ],
            "image/png": "[encoded data removed]"
          },
          "metadata": {
            "needs_background": "light"
          }
        }
      ]
    },
    {
      "cell_type": "markdown",
      "source": [
        "平均0、分散1の対数正規分布からn=100の標本抽出を10000回繰り返して、標本平均の標本分布を描く"
      ],
      "metadata": {
        "id": "bJzHuySsY2pf"
      }
    },
    {
      "cell_type": "code",
      "source": [
        "calc_step = 10000\n",
        "hist_data = ([])\n",
        "for i in range(calc_steps):\n",
        " sample = np.random.lognormal(0,1,100)\n",
        " X = np.mean(sample)\n",
        " hist_data = np.append(hist_data,X)\n",
        "\n",
        "plt.hist(hist_data)\n",
        "plt.grid(True)"
      ],
      "metadata": {
        "colab": {
          "base_uri": "https://localhost:8080/",
          "height": 269
        },
        "id": "raehMy31Y6jX",
        "outputId": "6f1ad2cc-f765-4cd7-f90a-c946f7a76973"
      },
      "execution_count": null,
      "outputs": [
        {
          "output_type": "display_data",
          "data": {
            "text/plain": [
              "<Figure size 432x288 with 1 Axes>"
            ],
            "image/png": "[encoded data removed]"
          },
          "metadata": {
            "needs_background": "light"
          }
        }
      ]
    },
    {
      "cell_type": "markdown",
      "source": [
        "練習問題4-6"
      ],
      "metadata": {
        "id": "r2KFN1rNZoCD"
      }
    },
    {
      "cell_type": "markdown",
      "source": [
        "学生の数学成績データの一学期の成績G１のヒストグラムを描く"
      ],
      "metadata": {
        "id": "pLeTfNNZZrmv"
      }
    },
    {
      "cell_type": "code",
      "source": [
        "#Chapter3のディレクトリに保存されている\"student-mat.csv\"をChapter4のディレクトリにコピーする\n",
        "import shutil\n",
        "#shutil.copy(コピー元のファイルパス,コピー先のディレクトリパス)\n",
        "shutil.copy(\"/content/drive/MyDrive/Colab Notebooks/東大_データサイエンティスト育成講座/Chapter3/student-mat.csv\",\"/content/drive/MyDrive/Colab Notebooks/東大_データサイエンティスト育成講座/Chapter4\")"
      ],
      "metadata": {
        "colab": {
          "base_uri": "https://localhost:8080/"
        },
        "id": "wObVriwsZ4cZ",
        "outputId": "6a105f38-a744-4330-ccc3-3b8314397f15"
      },
      "execution_count": null,
      "outputs": [
        {
          "output_type": "stream",
          "name": "stdout",
          "text": [
            "drive  sample_data\n"
          ]
        }
      ]
    },
    {
      "cell_type": "code",
      "source": [
        "%pwd\n",
        "%cd \"/content/drive/MyDrive/Colab Notebooks/東大_データサイエンティスト育成講座/Chapter4\"\n",
        "\n",
        "student_math_data = pd.read_csv(\"student-mat.csv\",sep=\";\")\n",
        "plt.hist(student_math_data[\"G1\"])\n",
        "plt.grid(True)"
      ],
      "metadata": {
        "colab": {
          "base_uri": "https://localhost:8080/",
          "height": 283
        },
        "id": "2EHUdX_bdYV1",
        "outputId": "4808ba6e-f953-4436-b8c1-598c7c51faa4"
      },
      "execution_count": null,
      "outputs": [
        {
          "output_type": "stream",
          "name": "stdout",
          "text": [
            "/content/drive/MyDrive/Colab Notebooks/東大_データサイエンティスト育成講座/Chapter4\n"
          ]
        },
        {
          "output_type": "display_data",
          "data": {
            "text/plain": [
              "<Figure size 432x288 with 1 Axes>"
            ],
            "image/png": "[encoded data removed]"
          },
          "metadata": {
            "needs_background": "light"
          }
        }
      ]
    },
    {
      "cell_type": "code",
      "source": [
        "#カーネル密度関数の描画\n",
        "student_math_data.G1.plot(kind=\"kde\",style=\"k--\")\n",
        "student_math_data.G1.hist(density=True)\n",
        "plt.grid(True)"
      ],
      "metadata": {
        "colab": {
          "base_uri": "https://localhost:8080/",
          "height": 265
        },
        "id": "drvQjXDbe5JD",
        "outputId": "6f92afc0-c253-47eb-e7d9-0beb93e28101"
      },
      "execution_count": null,
      "outputs": [
        {
          "output_type": "display_data",
          "data": {
            "text/plain": [
              "<Figure size 432x288 with 1 Axes>"
            ],
            "image/png": "[encoded data removed]"
          },
          "metadata": {
            "needs_background": "light"
          }
        }
      ]
    },
    {
      "cell_type": "markdown",
      "source": [
        "## 推計統計学"
      ],
      "metadata": {
        "id": "Nhw320INSLfC"
      }
    },
    {
      "cell_type": "markdown",
      "source": [
        "#大数の法則"
      ],
      "metadata": {
        "id": "R8E07oGISPwI"
      }
    },
    {
      "cell_type": "markdown",
      "source": [
        "試行を繰り返すと、その平均は期待値に近づいていくという法則"
      ],
      "metadata": {
        "id": "CDDcPZVpSXWo"
      }
    },
    {
      "cell_type": "code",
      "source": [
        "#大数の法則の計算\n",
        "#サイコロで実践\n",
        "\n",
        "data_set = np.array([1,2,3,4,5,6])\n",
        "\n",
        "#計算回数\n",
        "calc_times = 100000\n",
        "\n",
        "#グラフ描画のための連番を表示\n",
        "number = np.arange(1,calc_times+1)\n",
        "\n",
        "for i in range(10):\n",
        "  p = np.random.choice(data_set,calc_times).cumsum() #cumsum()は累積和\n",
        "  plt.plot(p/number)\n",
        "  plt.grid(True)\n",
        "\n",
        "#サイコロを振るごとに、出た目の平均値は期待値3.5に近づいている"
      ],
      "metadata": {
        "colab": {
          "base_uri": "https://localhost:8080/",
          "height": 265
        },
        "id": "kFVCj7UCSfBU",
        "outputId": "ce441764-8ff0-4e52-98c8-deb448f1e3b5"
      },
      "execution_count": null,
      "outputs": [
        {
          "output_type": "display_data",
          "data": {
            "text/plain": [
              "<Figure size 432x288 with 1 Axes>"
            ],
            "image/png": "[encoded data removed]"
          },
          "metadata": {
            "needs_background": "light"
          }
        }
      ]
    },
    {
      "cell_type": "markdown",
      "source": [
        "## 中心極限定理"
      ],
      "metadata": {
        "id": "aMTM8MMKSSmt"
      }
    },
    {
      "cell_type": "markdown",
      "source": [
        "試行回数が増えるほど、標本平均が正規分布の形に近づく法則"
      ],
      "metadata": {
        "id": "gtX-yuKEUmhu"
      }
    },
    {
      "cell_type": "code",
      "source": [
        "def function_central_theory(N):\n",
        "  data_set = np.array([1,2,3,4,5,6])\n",
        "  number = np.arange(1,N+1)\n",
        "\n",
        "  mean_data = np.array([])\n",
        "\n",
        "  #1000個のサンプルから標本平均を計算\n",
        "  for i in range(1000):\n",
        "    sample = np.random.choice(data_set,N).cumsum() #サイコロをN回振り、その累積和を計算。[N-1]番目がN回分の累積和\n",
        "    mean_data = np.append(mean_data,sample[N-1]/N) #標本平均を計算し、mean_dataに格納\n",
        "  \n",
        "  plt.hist(mean_data)\n",
        "  plt.grid(True)"
      ],
      "metadata": {
        "id": "AUYDp_nfUvkg"
      },
      "execution_count": null,
      "outputs": []
    },
    {
      "cell_type": "code",
      "source": [
        "#N=10\n",
        "\n",
        "function_central_theory(10)"
      ],
      "metadata": {
        "colab": {
          "base_uri": "https://localhost:8080/",
          "height": 265
        },
        "id": "_-MDKPnwZ0TZ",
        "outputId": "d2c2f208-33e1-4d26-b412-04cedbac7652"
      },
      "execution_count": null,
      "outputs": [
        {
          "output_type": "display_data",
          "data": {
            "text/plain": [
              "<Figure size 432x288 with 1 Axes>"
            ],
            "image/png": "[encoded data removed]"
          },
          "metadata": {
            "needs_background": "light"
          }
        }
      ]
    },
    {
      "cell_type": "code",
      "source": [
        "#N=1000\n",
        "\n",
        "function_central_theory(1000)"
      ],
      "metadata": {
        "colab": {
          "base_uri": "https://localhost:8080/",
          "height": 265
        },
        "id": "dXrTiWPraA-x",
        "outputId": "470fbb4d-c5d3-48eb-add9-57762228c2e8"
      },
      "execution_count": null,
      "outputs": [
        {
          "output_type": "display_data",
          "data": {
            "text/plain": [
              "<Figure size 432x288 with 1 Axes>"
            ],
            "image/png": "[encoded data removed]"
          },
          "metadata": {
            "needs_background": "light"
          }
        }
      ]
    },
    {
      "cell_type": "code",
      "source": [
        "#N=1000000\n",
        "\n",
        "function_central_theory(1000000)"
      ],
      "metadata": {
        "colab": {
          "base_uri": "https://localhost:8080/",
          "height": 265
        },
        "id": "2muE9D7SaI8x",
        "outputId": "8567b906-8e22-44d1-ceab-2fce86df5590"
      },
      "execution_count": null,
      "outputs": [
        {
          "output_type": "display_data",
          "data": {
            "text/plain": [
              "<Figure size 432x288 with 1 Axes>"
            ],
            "image/png": "[encoded data removed]"
          },
          "metadata": {
            "needs_background": "light"
          }
        }
      ]
    }
  ]
}